{
 "cells": [
  {
   "cell_type": "markdown",
   "metadata": {},
   "source": [
    "# Naive Shapeshifting Algorithm\n",
    "\n",
    "In this Notebook we will implement a naive solution for solving the shapeshifting problem. We do this by using one coordinator as the root of the new implementation and the other coordinator boat to move workers to different locations on the new configuration\n",
    "\n",
    "## Methodology\n",
    "\n",
    "To solve this problem we will take advantage of the geometries of the boats and how they are connected to find\n",
    "the maximum overlap between our current configuration and our goal configuration at each step.\n"
   ]
  },
  {
   "cell_type": "code",
   "execution_count": 2,
   "metadata": {},
   "outputs": [],
   "source": [
    "%load_ext autoreload\n",
    "%autoreload 2\n",
    "\n",
    "import graph_tool.all as gt\n",
    "from naiveshapeshift import *"
   ]
  },
  {
   "cell_type": "markdown",
   "metadata": {},
   "source": [
    "# Examples\n"
   ]
  },
  {
   "cell_type": "markdown",
   "metadata": {},
   "source": [
    "## Identity"
   ]
  },
  {
   "cell_type": "code",
   "execution_count": null,
   "metadata": {},
   "outputs": [],
   "source": [
    "# Make initial configuration\n",
    "init_config = gt.Graph(directed = False)\n",
    "coordinator = init_config.add_vertex()\n",
    "side_boat = init_config.add_vertex()\n",
    "latch = init_config.add_edge(coordinator, side_boat)\n",
    "edge_types = init_config.new_edge_property(\"int\")\n",
    "edge_types[latch] = 1"
   ]
  },
  {
   "cell_type": "code",
   "execution_count": null,
   "metadata": {},
   "outputs": [],
   "source": [
    "# Make goal configuration, it's the same\n",
    "goal_config = gt.Graph(directed = False)\n",
    "goal_coord = goal_config.add_vertex()\n",
    "goal_side = goal_config.add_vertex()\n",
    "goal_latch = goal_config.add_edge(goal_coord, goal_side)\n",
    "goal_edge_types = goal_config.new_edge_property(\"int\")\n",
    "goal_edge_types[goal_latch] = 1"
   ]
  },
  {
   "cell_type": "code",
   "execution_count": null,
   "metadata": {},
   "outputs": [],
   "source": [
    "latching_plan = shapeshift(init_config, goal_config)\n",
    "print(latching_plan)"
   ]
  },
  {
   "cell_type": "markdown",
   "metadata": {},
   "source": [
    "## Thesis proposal\n",
    "![title](img/shapeshifttest1.png)"
   ]
  },
  {
   "cell_type": "code",
   "execution_count": 17,
   "metadata": {},
   "outputs": [],
   "source": [
    "init_config = gt.Graph(directed = False)\n",
    "# initialize boats\n",
    "init_coord = init_config.add_vertex()\n",
    "init_work1 = init_config.add_vertex()\n",
    "init_work2 = init_config.add_vertex()\n",
    "init_work3 = init_config.add_vertex()\n",
    "init_work4 = init_config.add_vertex()\n",
    "init_work5 = init_config.add_vertex()\n",
    "\n",
    "# initialize edges\n",
    "i_coord_work1 = init_config.add_edge(init_coord, init_work1)\n",
    "i_coord_work2 = init_config.add_edge(init_coord, init_work2)\n",
    "i_work1_work3 = init_config.add_edge(init_work1, init_work3)\n",
    "i_work2_work3 = init_config.add_edge(init_work2, init_work3)\n",
    "i_work2_work4 = init_config.add_edge(init_work2, init_work4)\n",
    "i_work3_work5 = init_config.add_edge(init_work3, init_work5)\n",
    "i_work4_work5 = init_config.add_edge(init_work4, init_work5)\n",
    "\n",
    "# label edges\n",
    "init_edge_types = init_config.new_edge_property(\"int\")\n",
    "init_edge_types[i_coord_work1] = 1\n",
    "init_edge_types[i_coord_work2] = 2\n",
    "init_edge_types[i_work1_work3] = 2\n",
    "init_edge_types[i_work2_work3] = 1\n",
    "init_edge_types[i_work2_work4] = 2\n",
    "init_edge_types[i_work3_work5] = 2\n",
    "init_edge_types[i_work4_work5] = 1\n",
    "init_config.edge_properties['connection_type'] = init_edge_types"
   ]
  },
  {
   "cell_type": "code",
   "execution_count": 20,
   "metadata": {},
   "outputs": [],
   "source": [
    "init_config = gt.Graph(directed = True)\n",
    "# initialize boats\n",
    "init_coord = init_config.add_vertex()\n",
    "init_work1 = init_config.add_vertex()\n",
    "init_work2 = init_config.add_vertex()\n",
    "init_work3 = init_config.add_vertex()\n",
    "init_work4 = init_config.add_vertex()\n",
    "init_work5 = init_config.add_vertex()\n",
    "\n",
    "# initialize edges\n",
    "i_coord_work1 = init_config.add_edge(init_coord, init_work1)\n",
    "i_work1_coord = init_config.add_edge(init_work1, init_coord)\n",
    "\n",
    "i_coord_work2 = init_config.add_edge(init_coord, init_work2)\n",
    "i_work2_coord = init_config.add_edge(init_work2, init_coord)\n",
    "\n",
    "i_work1_work3 = init_config.add_edge(init_work1, init_work3)\n",
    "i_work3_work1 = init_config.add_edge(init_work3, init_work1)\n",
    "\n",
    "i_work2_work3 = init_config.add_edge(init_work2, init_work3)\n",
    "i_work3_work2 = init_config.add_edge(init_work3, init_work2)\n",
    "\n",
    "i_work2_work4 = init_config.add_edge(init_work2, init_work4)\n",
    "i_work4_work2 = init_config.add_edge(init_work4, init_work2)\n",
    "\n",
    "i_work3_work5 = init_config.add_edge(init_work3, init_work5)\n",
    "i_work5_work3 = init_config.add_edge(init_work5, init_work3)\n",
    "\n",
    "i_work4_work5 = init_config.add_edge(init_work4, init_work5)\n",
    "i_work5_work4 = init_config.add_edge(init_work5, init_work4)\n",
    "\n",
    "# label edges\n",
    "init_edge_types = init_config.new_edge_property(\"int\")\n",
    "init_edge_types[i_coord_work1] = 1\n",
    "init_edge_types[i_work1_coord] = 3\n",
    "\n",
    "init_edge_types[i_coord_work2] = 2\n",
    "init_edge_types[i_work2_coord] = 4\n",
    "\n",
    "init_edge_types[i_work1_work3] = 2\n",
    "init_edge_types[i_work3_work1] = 4\n",
    "\n",
    "init_edge_types[i_work2_work3] = 1\n",
    "init_edge_types[i_work3_work2] = 3\n",
    "\n",
    "init_edge_types[i_work2_work4] = 2\n",
    "init_edge_types[i_work4_work2] = 4\n",
    "\n",
    "init_edge_types[i_work3_work5] = 2\n",
    "init_edge_types[i_work5_work3] = 4\n",
    "\n",
    "init_edge_types[i_work4_work5] = 1\n",
    "init_edge_types[i_work5_work4] = 3\n",
    "init_config.edge_properties['connection_type'] = init_edge_types"
   ]
  },
  {
   "cell_type": "code",
   "execution_count": 18,
   "metadata": {},
   "outputs": [],
   "source": [
    "goal_config = gt.Graph(directed = False)\n",
    "#initialize boats\n",
    "goal_coord = goal_config.add_vertex()\n",
    "goal_work1 = goal_config.add_vertex()\n",
    "goal_work2 = goal_config.add_vertex()\n",
    "goal_work3 = goal_config.add_vertex()\n",
    "goal_work4 = goal_config.add_vertex()\n",
    "goal_work5 = goal_config.add_vertex()\n",
    "\n",
    "#initialize edges\n",
    "g_work1_work2 = goal_config.add_edge(goal_work1, goal_work2)\n",
    "g_work1_work4 = goal_config.add_edge(goal_work1, goal_work4)\n",
    "g_work2_work3 = goal_config.add_edge(goal_work2, goal_work3)\n",
    "g_work2_work5 = goal_config.add_edge(goal_work2, goal_work5)\n",
    "g_work3_coord = goal_config.add_edge(goal_work3, goal_coord)\n",
    "g_work4_work5 = goal_config.add_edge(goal_work4, goal_work5)\n",
    "g_work5_coord = goal_config.add_edge(goal_work5, goal_coord)\n",
    "\n",
    "#label edges\n",
    "goal_edge_types = goal_config.new_edge_property(\"int\")\n",
    "goal_edge_types[g_work1_work2] = 1\n",
    "goal_edge_types[g_work1_work4] = 2\n",
    "goal_edge_types[g_work2_work3] = 1\n",
    "goal_edge_types[g_work2_work5] = 2\n",
    "goal_edge_types[g_work3_coord] = 2\n",
    "goal_edge_types[g_work4_work5] = 1\n",
    "goal_edge_types[g_work5_coord] = 1\n",
    "goal_config.edge_properties['connection_type'] = goal_edge_types"
   ]
  },
  {
   "cell_type": "code",
   "execution_count": 22,
   "metadata": {},
   "outputs": [],
   "source": [
    "goal_config = gt.Graph(directed = True)\n",
    "#initialize boats\n",
    "goal_coord = goal_config.add_vertex()\n",
    "goal_work1 = goal_config.add_vertex()\n",
    "goal_work2 = goal_config.add_vertex()\n",
    "goal_work3 = goal_config.add_vertex()\n",
    "goal_work4 = goal_config.add_vertex()\n",
    "goal_work5 = goal_config.add_vertex()\n",
    "\n",
    "#initialize edges\n",
    "g_work1_work2 = goal_config.add_edge(goal_work1, goal_work2)\n",
    "g_work2_work1 = goal_config.add_edge(goal_work2, goal_work1)\n",
    "\n",
    "g_work1_work4 = goal_config.add_edge(goal_work1, goal_work4)\n",
    "g_work4_work1 = goal_config.add_edge(goal_work4, goal_work1)\n",
    "\n",
    "g_work2_work3 = goal_config.add_edge(goal_work2, goal_work3)\n",
    "g_work3_work2 = goal_config.add_edge(goal_work3, goal_work2)\n",
    "\n",
    "g_work2_work5 = goal_config.add_edge(goal_work2, goal_work5)\n",
    "g_work5_work2 = goal_config.add_edge(goal_work5, goal_work2)\n",
    "\n",
    "g_work3_coord = goal_config.add_edge(goal_work3, goal_coord)\n",
    "g_coord_work3 = goal_config.add_edge(goal_coord, goal_work3)\n",
    "\n",
    "g_work4_work5 = goal_config.add_edge(goal_work4, goal_work5)\n",
    "g_work5_work4 = goal_config.add_edge(goal_work5, goal_work4)\n",
    "\n",
    "g_work5_coord = goal_config.add_edge(goal_work5, goal_coord)\n",
    "g_coord_work5 = goal_config.add_edge(goal_coord, goal_work5)\n",
    "\n",
    "#label edges\n",
    "goal_edge_types = goal_config.new_edge_property(\"int\")\n",
    "goal_edge_types[g_work1_work2] = 1\n",
    "goal_edge_types[g_work2_work1] = 3\n",
    "\n",
    "goal_edge_types[g_work1_work4] = 2\n",
    "goal_edge_types[g_work4_work1] = 4\n",
    "\n",
    "goal_edge_types[g_work2_work3] = 1\n",
    "goal_edge_types[g_work3_work2] = 3\n",
    "\n",
    "goal_edge_types[g_work2_work5] = 2\n",
    "goal_edge_types[g_work5_work2] = 4\n",
    "\n",
    "goal_edge_types[g_work3_coord] = 2\n",
    "goal_edge_types[g_coord_work3] = 4\n",
    "\n",
    "goal_edge_types[g_work4_work5] = 1\n",
    "goal_edge_types[g_work5_work4] = 3\n",
    "\n",
    "goal_edge_types[g_work5_coord] = 1\n",
    "goal_edge_types[g_coord_work5] = 3\n",
    "goal_config.edge_properties['connection_type'] = goal_edge_types"
   ]
  },
  {
   "cell_type": "code",
   "execution_count": 19,
   "metadata": {},
   "outputs": [
    {
     "name": "stdout",
     "output_type": "stream",
     "text": [
      "[<Vertex object with index '4' at 0x137c37c30>]\n",
      "[<Vertex object with index '5' at 0x137c37db0>]\n",
      "[<Vertex object with index '4' at 0x137c37c90>]\n",
      "[<Vertex object with index '4' at 0x137c37c30>]\n",
      "[<Vertex object with index '2' at 0x137c37e10>]\n",
      "[<Vertex object with index '3' at 0x1256fd450>, <Vertex object with index '3' at 0x137c51030>]\n",
      "[<Vertex object with index '3' at 0x1256fd450>]\n",
      "[<Vertex object with index '5' at 0x137c37b10>]\n",
      "[<Vertex object with index '4' at 0x1256bc870>]\n",
      "[<Vertex object with index '5' at 0x137c37db0>]\n",
      "[<Vertex object with index '5' at 0x137c37b10>]\n",
      "[<Vertex object with index '3' at 0x1256bc870>, <Vertex object with index '4' at 0x137c379f0>]\n",
      "[<Vertex object with index '3' at 0x1256bc870>]\n",
      "[[(<Vertex object with index '4' at 0x137c37c30>, <Vertex object with index '5' at 0x1256fd2d0>), (<Vertex object with index '2' at 0x137c37e10>, <Vertex object with index '2' at 0x137c37cf0>), (<Vertex object with index '3' at 0x137c51030>, <Vertex object with index '1' at 0x137c51090>), (<Vertex object with index '3' at 0x1256fd450>, <Vertex object with index '3' at 0x1256fd390>)]]\n"
     ]
    }
   ],
   "source": [
    "latching_plan = shapeshift(init_config, goal_config)\n",
    "print(latching_plan)"
   ]
  },
  {
   "cell_type": "code",
   "execution_count": null,
   "metadata": {},
   "outputs": [],
   "source": []
  }
 ],
 "metadata": {
  "kernelspec": {
   "display_name": "Python 3",
   "language": "python",
   "name": "python3"
  },
  "language_info": {
   "codemirror_mode": {
    "name": "ipython",
    "version": 3
   },
   "file_extension": ".py",
   "mimetype": "text/x-python",
   "name": "python",
   "nbconvert_exporter": "python",
   "pygments_lexer": "ipython3",
   "version": "3.6.2"
  }
 },
 "nbformat": 4,
 "nbformat_minor": 2
}
