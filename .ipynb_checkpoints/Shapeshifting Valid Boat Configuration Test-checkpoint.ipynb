{
 "cells": [
  {
   "cell_type": "markdown",
   "metadata": {},
   "source": [
    "# Boat Valid Configuration Test\n",
    "\n",
    "Here we will construct a few different boat configurations and run our checker algorithm to see if they different configurations are valid or not"
   ]
  },
  {
   "cell_type": "code",
   "execution_count": 1,
   "metadata": {},
   "outputs": [],
   "source": [
    "from Boat import *\n",
    "from shapeshift import *\n",
    "%reload_ext autoreload\n",
    "%autoreload 2"
   ]
  },
  {
   "cell_type": "markdown",
   "metadata": {},
   "source": [
    "Test 1: Base Case - One Coordinator Boat\n",
    "![title](img/test1.jpg)"
   ]
  },
  {
   "cell_type": "code",
   "execution_count": 2,
   "metadata": {},
   "outputs": [
    {
     "name": "stdout",
     "output_type": "stream",
     "text": [
      "True\n"
     ]
    }
   ],
   "source": [
    "boat1 = Boat(\"boat1\", True)\n",
    "boat_list1 = [boat1]\n",
    "result = is_valid_configuration(boat_list1)\n",
    "print(result)"
   ]
  },
  {
   "cell_type": "markdown",
   "metadata": {},
   "source": [
    "Test 2: One Coordinator - One Worker\n",
    "![title](img/test2.jpg)"
   ]
  },
  {
   "cell_type": "code",
   "execution_count": 3,
   "metadata": {},
   "outputs": [
    {
     "name": "stdout",
     "output_type": "stream",
     "text": [
      "True\n"
     ]
    }
   ],
   "source": [
    "boat1 = Boat(\"boat1\", True)\n",
    "boat2 = Boat(\"boat2\", False)\n",
    "latch_boats(boat1, \"starboard_male_top\", boat2, \"stern_female\")\n",
    "boat_list2 = [boat1, boat2]\n",
    "result = is_valid_configuration(boat_list2)\n",
    "print(result)"
   ]
  },
  {
   "cell_type": "markdown",
   "metadata": {},
   "source": [
    "Test 3: One Coordinator - Multiple Workers, overlapping\n",
    "![title](img/test3.jpg)"
   ]
  },
  {
   "cell_type": "code",
   "execution_count": 11,
   "metadata": {},
   "outputs": [
    {
     "name": "stdout",
     "output_type": "stream",
     "text": [
      "boat1\n",
      "('Invalid boat configuration, boat:', 'boat4', 'already occupies cell', (1, -1))\n",
      "False\n"
     ]
    }
   ],
   "source": [
    "boat1 = Boat(\"boat1\", False)\n",
    "boat2 = Boat(\"boat2\", True)\n",
    "boat3 = Boat(\"boat3\", False)\n",
    "boat4 = Boat(\"boat4\", False)\n",
    "latch_boats(boat1, \"stern_female\", boat2, \"bow_male\")\n",
    "latch_boats(boat2, \"starboard_male_bottom\", boat3, \"port_female_top\")\n",
    "latch_boats(boat2, \"starboard_male_top\", boat4, \"stern_female\")\n",
    "boat_list2 = [boat1, boat2, boat3, boat4]\n",
    "result = is_valid_configuration(boat_list2)\n",
    "print(result)"
   ]
  },
  {
   "cell_type": "code",
   "execution_count": 14,
   "metadata": {},
   "outputs": [
    {
     "name": "stdout",
     "output_type": "stream",
     "text": [
      "boat1\n"
     ]
    },
    {
     "ename": "KeyError",
     "evalue": "'boat4'",
     "output_type": "error",
     "traceback": [
      "\u001b[0;31m---------------------------------------------------------------------------\u001b[0m",
      "\u001b[0;31mKeyError\u001b[0m                                  Traceback (most recent call last)",
      "\u001b[0;32m<ipython-input-14-3b5a85365146>\u001b[0m in \u001b[0;36m<module>\u001b[0;34m()\u001b[0m\n\u001b[1;32m     10\u001b[0m \u001b[0mlatch_boats\u001b[0m\u001b[0;34m(\u001b[0m\u001b[0mboat5\u001b[0m\u001b[0;34m,\u001b[0m \u001b[0;34m\"starboard_male_bottom\"\u001b[0m\u001b[0;34m,\u001b[0m \u001b[0mboat6\u001b[0m\u001b[0;34m,\u001b[0m \u001b[0;34m\"port_female_top\"\u001b[0m\u001b[0;34m)\u001b[0m\u001b[0;34m\u001b[0m\u001b[0m\n\u001b[1;32m     11\u001b[0m \u001b[0mboat_list2\u001b[0m \u001b[0;34m=\u001b[0m \u001b[0;34m[\u001b[0m\u001b[0mboat1\u001b[0m\u001b[0;34m,\u001b[0m \u001b[0mboat2\u001b[0m\u001b[0;34m,\u001b[0m \u001b[0mboat3\u001b[0m\u001b[0;34m,\u001b[0m \u001b[0mboat4\u001b[0m\u001b[0;34m,\u001b[0m \u001b[0mboat5\u001b[0m\u001b[0;34m,\u001b[0m \u001b[0mboat6\u001b[0m\u001b[0;34m]\u001b[0m\u001b[0;34m\u001b[0m\u001b[0m\n\u001b[0;32m---> 12\u001b[0;31m \u001b[0mresult\u001b[0m \u001b[0;34m=\u001b[0m \u001b[0mis_valid_configuration\u001b[0m\u001b[0;34m(\u001b[0m\u001b[0mboat_list2\u001b[0m\u001b[0;34m)\u001b[0m\u001b[0;34m\u001b[0m\u001b[0m\n\u001b[0m\u001b[1;32m     13\u001b[0m \u001b[0;32mprint\u001b[0m\u001b[0;34m(\u001b[0m\u001b[0mresult\u001b[0m\u001b[0;34m)\u001b[0m\u001b[0;34m\u001b[0m\u001b[0m\n",
      "\u001b[0;32m/Users/rkelly/mit/meng/roboat/shapeshift/shapeshift.py\u001b[0m in \u001b[0;36mis_valid_configuration\u001b[0;34m(boats)\u001b[0m\n\u001b[1;32m     55\u001b[0m                         \u001b[0;32mif\u001b[0m \u001b[0mv\u001b[0m\u001b[0;34m.\u001b[0m\u001b[0mboat_id\u001b[0m \u001b[0;34m==\u001b[0m \u001b[0mboat\u001b[0m\u001b[0;34m.\u001b[0m\u001b[0mboat_id\u001b[0m\u001b[0;34m:\u001b[0m\u001b[0;34m\u001b[0m\u001b[0m\n\u001b[1;32m     56\u001b[0m                             \u001b[0mchild_latch_name\u001b[0m \u001b[0;34m=\u001b[0m \u001b[0mk\u001b[0m\u001b[0;34m\u001b[0m\u001b[0m\n\u001b[0;32m---> 57\u001b[0;31m                 \u001b[0mchild_boat_cell1\u001b[0m\u001b[0;34m,\u001b[0m \u001b[0mchild_boat_cell2\u001b[0m\u001b[0;34m,\u001b[0m \u001b[0mis_valid\u001b[0m \u001b[0;34m=\u001b[0m \u001b[0mboat_cells_from_parent\u001b[0m\u001b[0;34m(\u001b[0m\u001b[0mboat_locations\u001b[0m\u001b[0;34m[\u001b[0m\u001b[0mboat\u001b[0m\u001b[0;34m.\u001b[0m\u001b[0mboat_id\u001b[0m\u001b[0;34m]\u001b[0m\u001b[0;34m,\u001b[0m \u001b[0mlatch_name\u001b[0m\u001b[0;34m,\u001b[0m \u001b[0mchild_latch_name\u001b[0m\u001b[0;34m)\u001b[0m\u001b[0;34m\u001b[0m\u001b[0m\n\u001b[0m\u001b[1;32m     58\u001b[0m                 \u001b[0;32mif\u001b[0m \u001b[0;32mnot\u001b[0m \u001b[0mis_valid\u001b[0m\u001b[0;34m:\u001b[0m\u001b[0;34m\u001b[0m\u001b[0m\n\u001b[1;32m     59\u001b[0m                     \u001b[0;32mreturn\u001b[0m \u001b[0mFalse\u001b[0m\u001b[0;34m\u001b[0m\u001b[0m\n",
      "\u001b[0;31mKeyError\u001b[0m: 'boat4'"
     ]
    }
   ],
   "source": [
    "boat1 = Boat(\"boat1\", False)\n",
    "boat2 = Boat(\"boat2\", True)\n",
    "boat3 = Boat(\"boat3\", False)\n",
    "boat4 = Boat(\"boat4\", True)\n",
    "boat5 = Boat(\"boat5\", False)\n",
    "boat6 = Boat(\"boat6\", False)\n",
    "latch_boats(boat1, \"stern_female\", boat2, \"bow_male\")\n",
    "latch_boats(boat2, \"starboard_male_bottom\", boat3, \"port_female_top\")\n",
    "latch_boats(boat4, \"stern_female\", boat5, \"bow_male\")\n",
    "latch_boats(boat5, \"starboard_male_bottom\", boat6, \"port_female_top\")\n",
    "boat_list = [boat1, boat2, boat3, boat4, boat5, boat6]\n",
    "result = is_valid_configuration(boat_list)\n",
    "print(result)"
   ]
  },
  {
   "cell_type": "code",
   "execution_count": null,
   "metadata": {},
   "outputs": [],
   "source": []
  }
 ],
 "metadata": {
  "kernelspec": {
   "display_name": "Python 2",
   "language": "python",
   "name": "python2"
  },
  "language_info": {
   "codemirror_mode": {
    "name": "ipython",
    "version": 2
   },
   "file_extension": ".py",
   "mimetype": "text/x-python",
   "name": "python",
   "nbconvert_exporter": "python",
   "pygments_lexer": "ipython2",
   "version": "2.7.9"
  }
 },
 "nbformat": 4,
 "nbformat_minor": 2
}
