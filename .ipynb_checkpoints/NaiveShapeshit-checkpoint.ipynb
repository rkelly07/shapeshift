{
 "cells": [
  {
   "cell_type": "markdown",
   "metadata": {},
   "source": [
    "# Naive Shapeshifting Algorithm\n",
    "\n",
    "In this Notebook we will implement a naive solution for solving the shapeshifting problem. We do this by using one coordinator as the root of the new implementation and the other coordinator boat to move workers to different locations on the new configuration\n",
    "\n",
    "## Methodology\n",
    "\n",
    "To solve this problem we will take advantage of the geometries of the boats and how they are connected to find\n",
    "the maximum overlap between our current configuration and our goal configuration at each step.\n"
   ]
  },
  {
   "cell_type": "code",
   "execution_count": 2,
   "metadata": {},
   "outputs": [
    {
     "name": "stderr",
     "output_type": "stream",
     "text": [
      "/usr/local/Cellar/graph-tool/2.27_2/lib/python3.7/site-packages/graph_tool/draw/cairo_draw.py:1494: RuntimeWarning: Error importing Gtk module: No module named 'gi'; GTK+ drawing will not work.\n",
      "  warnings.warn(msg, RuntimeWarning)\n"
     ]
    }
   ],
   "source": [
    "import graph_tool.all as gt"
   ]
  },
  {
   "cell_type": "code",
   "execution_count": 23,
   "metadata": {},
   "outputs": [],
   "source": [
    "# This function will return a list of latch and unlatch steps in order to transform the initial configuration\n",
    "# to the goal configuration\n",
    "def shapeshift(initial_configuration, goal_configuration):\n",
    "    current_goal_config = None\n",
    "    current_start_config = initial_configuration\n",
    "    planner_steps = []\n",
    "    while current_goal_config != goal_configuration:\n",
    "        if current_goal_config == None:\n",
    "            goal = goal_configuration\n",
    "        else:\n",
    "            goal = goal_configuration - current_goal_config\n",
    "        current_steps = find_overlap(current_start_config, goal)\n",
    "        planner_steps.append(current_steps)\n",
    "        break\n",
    "    return planner_steps\n",
    "        \n",
    "def find_overlap(current_configuration, goal_configuration):\n",
    "    current_children = current_configuration.new_vertex_property(\"vector<int>\")\n",
    "    goal_children = goal_configuration.new_vertex_property(\"vector<int>\")\n",
    "    \n",
    "    current_parent = current_configuration.new_vertex_property(\"int\")\n",
    "    goal_parent = goal_configuration.new_vertex_property(\"int\")\n",
    "    \n",
    "    gt.bfs_search(current_configuration, current_configuration.vertex(0), \n",
    "               VisitorDistance(\"current\", current_parent, current_children))\n",
    "    gt.bfs_search(goal_configuration, goal_configuration.vertex(0), \n",
    "               VisitorDistance(\"goal\", goal_parent, goal_children))\n",
    "    \n",
    "#     current_index_dist = [(i,current_dist.a[i]) for i in range(len(current_dist.a))]\n",
    "#     goal_index_dist = [(i,goal_dist.a[i]) for i in range(len(goal_dist.a))]\n",
    "    \n",
    "#     current_index_dist.sort(key = lambda x : x[1])\n",
    "#     goal_index_dist.sort(key = lambda x : x[1])\n",
    "    \n",
    "    matching = []\n",
    "    for potential_leaf in current_configuration.vertices():\n",
    "        if len(current_children[potential_leaf]) > 0 or potential_leaf == 0:\n",
    "            continue\n",
    "        print(\"leafs\")\n",
    "        print(potential_leaf)\n",
    "        for potential_root in goal_configuration.vertices():\n",
    "            if goal_parent[potential_root] != 0 or potential_root == 0:\n",
    "                continue\n",
    "            print(\"roots\")\n",
    "            print(potential_root)\n",
    "            stack_current = [potential_leaf]\n",
    "            stack_goal = [potential_root]\n",
    "            current_overlap = []\n",
    "            while len(stack_current) != 0:\n",
    "                current_node = stack_current.pop()\n",
    "                current_goal = stack_goal.pop()\n",
    "                current_overlap.append((current_node, current_goal))\n",
    "                \n",
    "#                 if (current_configuration.edge_properties[\"connection_type\"][current_node.incoming_edge()]\n",
    "#                 not in [edge_propercurrent_goal.edge_list())]:\n",
    "#                     break\n",
    "                for edge in current_goal.out_edges():\n",
    "                    if current_configuration.edge(current_node, current_parent[current_node]) == None:\n",
    "                        continue\n",
    "                    if (goal_configuration.edge_properties[\"connection_type\"][edge] == \n",
    "                    current_configuration.edge_properties[\"connection_type\"][current_configuration.edge(current_node, current_parent[current_node])]):\n",
    "                        stack_current.append(current_parent[current_node])\n",
    "                        stack_goal.append(edge.target())\n",
    "            if len(current_overlap) > len(matching):\n",
    "                        matching = current_overlap\n",
    "    return matching\n",
    "\n",
    "class VisitorDistance(gt.BFSVisitor):\n",
    "\n",
    "    def __init__(self, name, parent, children):\n",
    "        self.name = name\n",
    "        self.parent = parent\n",
    "        self.children = children\n",
    "\n",
    "    def tree_edge(self, e):\n",
    "        self.parent[e.target()] = e.source()\n",
    "        self.children[e.source()].append(e.target())\n",
    "    "
   ]
  },
  {
   "cell_type": "markdown",
   "metadata": {},
   "source": [
    "# Examples"
   ]
  },
  {
   "cell_type": "markdown",
   "metadata": {},
   "source": [
    "## Identity Example - Initial and Goal Configurations are the same"
   ]
  },
  {
   "cell_type": "code",
   "execution_count": 4,
   "metadata": {},
   "outputs": [],
   "source": [
    "# Make initial configuration\n",
    "init_config = gt.Graph(directed = False)\n",
    "coordinator = init_config.add_vertex()\n",
    "side_boat = init_config.add_vertex()\n",
    "latch = init_config.add_edge(coordinator, side_boat)\n",
    "edge_types = init_config.new_edge_property(\"int\")\n",
    "edge_types[latch] = 1"
   ]
  },
  {
   "cell_type": "code",
   "execution_count": null,
   "metadata": {},
   "outputs": [],
   "source": []
  },
  {
   "cell_type": "code",
   "execution_count": 5,
   "metadata": {},
   "outputs": [],
   "source": [
    "# Make goal configuration, it's the same\n",
    "goal_config = gt.Graph(directed = False)\n",
    "goal_coord = goal_config.add_vertex()\n",
    "goal_side = goal_config.add_vertex()\n",
    "goal_latch = goal_config.add_edge(goal_coord, goal_side)\n",
    "goal_edge_types = goal_config.new_edge_property(\"int\")\n",
    "goal_edge_types[goal_latch] = 1"
   ]
  },
  {
   "cell_type": "code",
   "execution_count": 5,
   "metadata": {},
   "outputs": [
    {
     "name": "stdout",
     "output_type": "stream",
     "text": [
      "0\n",
      "0\n",
      "[[]]\n"
     ]
    }
   ],
   "source": [
    "latching_plan = shapeshift(init_config, goal_config)\n",
    "print(latching_plan)"
   ]
  },
  {
   "cell_type": "markdown",
   "metadata": {},
   "source": [
    "## Example from Thesis proposal"
   ]
  },
  {
   "cell_type": "code",
   "execution_count": 12,
   "metadata": {},
   "outputs": [],
   "source": [
    "init_config = gt.Graph(directed = False)\n",
    "# initialize boats\n",
    "init_coord = init_config.add_vertex()\n",
    "init_work1 = init_config.add_vertex()\n",
    "init_work2 = init_config.add_vertex()\n",
    "init_work3 = init_config.add_vertex()\n",
    "init_work4 = init_config.add_vertex()\n",
    "init_work5 = init_config.add_vertex()\n",
    "\n",
    "# initialize edges\n",
    "i_coord_work1 = init_config.add_edge(init_coord, init_work1)\n",
    "i_coord_work2 = init_config.add_edge(init_coord, init_work2)\n",
    "i_work1_work3 = init_config.add_edge(init_work1, init_work3)\n",
    "i_work2_work3 = init_config.add_edge(init_work2, init_work3)\n",
    "i_work2_work4 = init_config.add_edge(init_work2, init_work4)\n",
    "i_work3_work5 = init_config.add_edge(init_work3, init_work5)\n",
    "i_work4_work5 = init_config.add_edge(init_work4, init_work5)\n",
    "\n",
    "# label edges\n",
    "init_edge_types = init_config.new_edge_property(\"int\")\n",
    "init_edge_types[i_coord_work1] = 1\n",
    "init_edge_types[i_coord_work2] = 2\n",
    "init_edge_types[i_work1_work3] = 2\n",
    "init_edge_types[i_work2_work3] = 1\n",
    "init_edge_types[i_work2_work4] = 2\n",
    "init_edge_types[i_work3_work5] = 2\n",
    "init_edge_types[i_work4_work5] = 1\n",
    "init_config.edge_properties['connection_type'] = init_edge_types"
   ]
  },
  {
   "cell_type": "code",
   "execution_count": 13,
   "metadata": {},
   "outputs": [],
   "source": [
    "goal_config = gt.Graph(directed = False)\n",
    "#initialize boats\n",
    "goal_coord = goal_config.add_vertex()\n",
    "goal_work1 = goal_config.add_vertex()\n",
    "goal_work2 = goal_config.add_vertex()\n",
    "goal_work3 = goal_config.add_vertex()\n",
    "goal_work4 = goal_config.add_vertex()\n",
    "goal_work5 = goal_config.add_vertex()\n",
    "\n",
    "#initialize edges\n",
    "g_work1_work2 = goal_config.add_edge(goal_work1, goal_work2)\n",
    "g_work1_work4 = goal_config.add_edge(goal_work1, goal_work4)\n",
    "g_work2_work3 = goal_config.add_edge(goal_work2, goal_work3)\n",
    "g_work2_work5 = goal_config.add_edge(goal_work2, goal_work5)\n",
    "g_work3_coord = goal_config.add_edge(goal_work3, goal_coord)\n",
    "g_work4_work5 = goal_config.add_edge(goal_work4, goal_work5)\n",
    "g_work5_coord = goal_config.add_edge(goal_work5, goal_coord)\n",
    "\n",
    "#label edges\n",
    "goal_edge_types = goal_config.new_edge_property(\"int\")\n",
    "goal_edge_types[g_work1_work2] = 1\n",
    "goal_edge_types[g_work1_work4] = 2\n",
    "goal_edge_types[g_work2_work3] = 1\n",
    "goal_edge_types[g_work2_work5] = 2\n",
    "goal_edge_types[g_work3_coord] = 2\n",
    "goal_edge_types[g_work4_work5] = 1\n",
    "goal_edge_types[g_work5_coord] = 1\n",
    "goal_config.edge_properties['connection_type'] = goal_edge_types"
   ]
  },
  {
   "cell_type": "code",
   "execution_count": 24,
   "metadata": {},
   "outputs": [
    {
     "name": "stdout",
     "output_type": "stream",
     "text": [
      "leafs\n",
      "4\n",
      "roots\n",
      "3\n"
     ]
    },
    {
     "ename": "ValueError",
     "evalue": "invalid key 'None' of type '<class 'NoneType'>', wanted type: Edge",
     "output_type": "error",
     "traceback": [
      "\u001b[0;31m---------------------------------------------------------------------------\u001b[0m",
      "\u001b[0;31mArgumentError\u001b[0m                             Traceback (most recent call last)",
      "\u001b[0;32m/usr/local/Cellar/graph-tool/2.27_2/lib/python3.7/site-packages/graph_tool/__init__.py\u001b[0m in \u001b[0;36m__getitem__\u001b[0;34m(self, k)\u001b[0m\n\u001b[1;32m    443\u001b[0m         \u001b[0;32mtry\u001b[0m\u001b[0;34m:\u001b[0m\u001b[0;34m\u001b[0m\u001b[0m\n\u001b[0;32m--> 444\u001b[0;31m             \u001b[0;32mreturn\u001b[0m \u001b[0mself\u001b[0m\u001b[0;34m.\u001b[0m\u001b[0m__map\u001b[0m\u001b[0;34m[\u001b[0m\u001b[0mk\u001b[0m\u001b[0;34m]\u001b[0m\u001b[0;34m\u001b[0m\u001b[0m\n\u001b[0m\u001b[1;32m    445\u001b[0m         \u001b[0;32mexcept\u001b[0m \u001b[0mArgumentError\u001b[0m\u001b[0;34m:\u001b[0m\u001b[0;34m\u001b[0m\u001b[0m\n",
      "\u001b[0;31mArgumentError\u001b[0m: Python argument types in\n    EdgePropertyMap<int32_t>.__getitem__(EdgePropertyMap<int32_t>, NoneType)\ndid not match C++ signature:\n    __getitem__(graph_tool::PythonPropertyMap<boost::checked_vector_property_map<int, boost::adj_edge_index_property_map<unsigned long> > > {lvalue}, graph_tool::PythonEdge<boost::filt_graph<boost::undirected_adaptor<boost::adj_list<unsigned long> >, graph_tool::detail::MaskFilter<boost::unchecked_vector_property_map<unsigned char, boost::adj_edge_index_property_map<unsigned long> > >, graph_tool::detail::MaskFilter<boost::unchecked_vector_property_map<unsigned char, boost::typed_identity_property_map<unsigned long> > > > const>)\n    __getitem__(graph_tool::PythonPropertyMap<boost::checked_vector_property_map<int, boost::adj_edge_index_property_map<unsigned long> > > {lvalue}, graph_tool::PythonEdge<boost::filt_graph<boost::reversed_graph<boost::adj_list<unsigned long>, boost::adj_list<unsigned long> const&>, graph_tool::detail::MaskFilter<boost::unchecked_vector_property_map<unsigned char, boost::adj_edge_index_property_map<unsigned long> > >, graph_tool::detail::MaskFilter<boost::unchecked_vector_property_map<unsigned char, boost::typed_identity_property_map<unsigned long> > > > const>)\n    __getitem__(graph_tool::PythonPropertyMap<boost::checked_vector_property_map<int, boost::adj_edge_index_property_map<unsigned long> > > {lvalue}, graph_tool::PythonEdge<boost::filt_graph<boost::adj_list<unsigned long>, graph_tool::detail::MaskFilter<boost::unchecked_vector_property_map<unsigned char, boost::adj_edge_index_property_map<unsigned long> > >, graph_tool::detail::MaskFilter<boost::unchecked_vector_property_map<unsigned char, boost::typed_identity_property_map<unsigned long> > > > const>)\n    __getitem__(graph_tool::PythonPropertyMap<boost::checked_vector_property_map<int, boost::adj_edge_index_property_map<unsigned long> > > {lvalue}, graph_tool::PythonEdge<boost::undirected_adaptor<boost::adj_list<unsigned long> > const>)\n    __getitem__(graph_tool::PythonPropertyMap<boost::checked_vector_property_map<int, boost::adj_edge_index_property_map<unsigned long> > > {lvalue}, graph_tool::PythonEdge<boost::reversed_graph<boost::adj_list<unsigned long>, boost::adj_list<unsigned long> const&> const>)\n    __getitem__(graph_tool::PythonPropertyMap<boost::checked_vector_property_map<int, boost::adj_edge_index_property_map<unsigned long> > > {lvalue}, graph_tool::PythonEdge<boost::adj_list<unsigned long> const>)\n    __getitem__(graph_tool::PythonPropertyMap<boost::checked_vector_property_map<int, boost::adj_edge_index_property_map<unsigned long> > > {lvalue}, graph_tool::PythonEdge<boost::filt_graph<boost::undirected_adaptor<boost::adj_list<unsigned long> >, graph_tool::detail::MaskFilter<boost::unchecked_vector_property_map<unsigned char, boost::adj_edge_index_property_map<unsigned long> > >, graph_tool::detail::MaskFilter<boost::unchecked_vector_property_map<unsigned char, boost::typed_identity_property_map<unsigned long> > > > >)\n    __getitem__(graph_tool::PythonPropertyMap<boost::checked_vector_property_map<int, boost::adj_edge_index_property_map<unsigned long> > > {lvalue}, graph_tool::PythonEdge<boost::filt_graph<boost::reversed_graph<boost::adj_list<unsigned long>, boost::adj_list<unsigned long> const&>, graph_tool::detail::MaskFilter<boost::unchecked_vector_property_map<unsigned char, boost::adj_edge_index_property_map<unsigned long> > >, graph_tool::detail::MaskFilter<boost::unchecked_vector_property_map<unsigned char, boost::typed_identity_property_map<unsigned long> > > > >)\n    __getitem__(graph_tool::PythonPropertyMap<boost::checked_vector_property_map<int, boost::adj_edge_index_property_map<unsigned long> > > {lvalue}, graph_tool::PythonEdge<boost::filt_graph<boost::adj_list<unsigned long>, graph_tool::detail::MaskFilter<boost::unchecked_vector_property_map<unsigned char, boost::adj_edge_index_property_map<unsigned long> > >, graph_tool::detail::MaskFilter<boost::unchecked_vector_property_map<unsigned char, boost::typed_identity_property_map<unsigned long> > > > >)\n    __getitem__(graph_tool::PythonPropertyMap<boost::checked_vector_property_map<int, boost::adj_edge_index_property_map<unsigned long> > > {lvalue}, graph_tool::PythonEdge<boost::undirected_adaptor<boost::adj_list<unsigned long> > >)\n    __getitem__(graph_tool::PythonPropertyMap<boost::checked_vector_property_map<int, boost::adj_edge_index_property_map<unsigned long> > > {lvalue}, graph_tool::PythonEdge<boost::reversed_graph<boost::adj_list<unsigned long>, boost::adj_list<unsigned long> const&> >)\n    __getitem__(graph_tool::PythonPropertyMap<boost::checked_vector_property_map<int, boost::adj_edge_index_property_map<unsigned long> > > {lvalue}, graph_tool::PythonEdge<boost::adj_list<unsigned long> >)",
      "\nDuring handling of the above exception, another exception occurred:\n",
      "\u001b[0;31mTypeError\u001b[0m                                 Traceback (most recent call last)",
      "\u001b[0;32m/usr/local/Cellar/graph-tool/2.27_2/lib/python3.7/site-packages/graph_tool/__init__.py\u001b[0m in \u001b[0;36m__key_convert\u001b[0;34m(self, k)\u001b[0m\n\u001b[1;32m    413\u001b[0m             \u001b[0;32mtry\u001b[0m\u001b[0;34m:\u001b[0m\u001b[0;34m\u001b[0m\u001b[0m\n\u001b[0;32m--> 414\u001b[0;31m                 \u001b[0mk\u001b[0m \u001b[0;34m=\u001b[0m \u001b[0;34m(\u001b[0m\u001b[0mint\u001b[0m\u001b[0;34m(\u001b[0m\u001b[0mk\u001b[0m\u001b[0;34m[\u001b[0m\u001b[0;36m0\u001b[0m\u001b[0;34m]\u001b[0m\u001b[0;34m)\u001b[0m\u001b[0;34m,\u001b[0m \u001b[0mint\u001b[0m\u001b[0;34m(\u001b[0m\u001b[0mk\u001b[0m\u001b[0;34m[\u001b[0m\u001b[0;36m1\u001b[0m\u001b[0;34m]\u001b[0m\u001b[0;34m)\u001b[0m\u001b[0;34m)\u001b[0m\u001b[0;34m\u001b[0m\u001b[0m\n\u001b[0m\u001b[1;32m    415\u001b[0m             \u001b[0;32mexcept\u001b[0m\u001b[0;34m:\u001b[0m\u001b[0;34m\u001b[0m\u001b[0m\n",
      "\u001b[0;31mTypeError\u001b[0m: 'NoneType' object is not subscriptable",
      "\nDuring handling of the above exception, another exception occurred:\n",
      "\u001b[0;31mArgumentError\u001b[0m                             Traceback (most recent call last)",
      "\u001b[0;32m/usr/local/Cellar/graph-tool/2.27_2/lib/python3.7/site-packages/graph_tool/__init__.py\u001b[0m in \u001b[0;36m__getitem__\u001b[0;34m(self, k)\u001b[0m\n\u001b[1;32m    446\u001b[0m             \u001b[0;32mtry\u001b[0m\u001b[0;34m:\u001b[0m\u001b[0;34m\u001b[0m\u001b[0m\n\u001b[0;32m--> 447\u001b[0;31m                 \u001b[0mk\u001b[0m \u001b[0;34m=\u001b[0m \u001b[0mself\u001b[0m\u001b[0;34m.\u001b[0m\u001b[0m__key_convert\u001b[0m\u001b[0;34m(\u001b[0m\u001b[0mk\u001b[0m\u001b[0;34m)\u001b[0m\u001b[0;34m\u001b[0m\u001b[0m\n\u001b[0m\u001b[1;32m    448\u001b[0m                 \u001b[0;32mreturn\u001b[0m \u001b[0mself\u001b[0m\u001b[0;34m.\u001b[0m\u001b[0m__map\u001b[0m\u001b[0;34m[\u001b[0m\u001b[0mk\u001b[0m\u001b[0;34m]\u001b[0m\u001b[0;34m\u001b[0m\u001b[0m\n",
      "\u001b[0;32m/usr/local/Cellar/graph-tool/2.27_2/lib/python3.7/site-packages/graph_tool/__init__.py\u001b[0m in \u001b[0;36m__key_convert\u001b[0;34m(self, k)\u001b[0m\n\u001b[1;32m    415\u001b[0m             \u001b[0;32mexcept\u001b[0m\u001b[0;34m:\u001b[0m\u001b[0;34m\u001b[0m\u001b[0m\n\u001b[0;32m--> 416\u001b[0;31m                 \u001b[0;32mraise\u001b[0m \u001b[0mArgumentError\u001b[0m\u001b[0;34m\u001b[0m\u001b[0m\n\u001b[0m\u001b[1;32m    417\u001b[0m             \u001b[0mkey\u001b[0m \u001b[0;34m=\u001b[0m \u001b[0mself\u001b[0m\u001b[0;34m.\u001b[0m\u001b[0m__g\u001b[0m\u001b[0;34m(\u001b[0m\u001b[0;34m)\u001b[0m\u001b[0;34m.\u001b[0m\u001b[0medge\u001b[0m\u001b[0;34m(\u001b[0m\u001b[0mk\u001b[0m\u001b[0;34m[\u001b[0m\u001b[0;36m0\u001b[0m\u001b[0;34m]\u001b[0m\u001b[0;34m,\u001b[0m \u001b[0mk\u001b[0m\u001b[0;34m[\u001b[0m\u001b[0;36m1\u001b[0m\u001b[0;34m]\u001b[0m\u001b[0;34m)\u001b[0m\u001b[0;34m\u001b[0m\u001b[0m\n",
      "\u001b[0;31mArgumentError\u001b[0m: ",
      "\nDuring handling of the above exception, another exception occurred:\n",
      "\u001b[0;31mValueError\u001b[0m                                Traceback (most recent call last)",
      "\u001b[0;32m<ipython-input-24-43b3d339efd1>\u001b[0m in \u001b[0;36m<module>\u001b[0;34m\u001b[0m\n\u001b[0;32m----> 1\u001b[0;31m \u001b[0mlatching_plan\u001b[0m \u001b[0;34m=\u001b[0m \u001b[0mshapeshift\u001b[0m\u001b[0;34m(\u001b[0m\u001b[0minit_config\u001b[0m\u001b[0;34m,\u001b[0m \u001b[0mgoal_config\u001b[0m\u001b[0;34m)\u001b[0m\u001b[0;34m\u001b[0m\u001b[0m\n\u001b[0m\u001b[1;32m      2\u001b[0m \u001b[0mprint\u001b[0m\u001b[0;34m(\u001b[0m\u001b[0mlatching_plan\u001b[0m\u001b[0;34m)\u001b[0m\u001b[0;34m\u001b[0m\u001b[0m\n",
      "\u001b[0;32m<ipython-input-23-7fec6f9aebfd>\u001b[0m in \u001b[0;36mshapeshift\u001b[0;34m(initial_configuration, goal_configuration)\u001b[0m\n\u001b[1;32m     10\u001b[0m         \u001b[0;32melse\u001b[0m\u001b[0;34m:\u001b[0m\u001b[0;34m\u001b[0m\u001b[0m\n\u001b[1;32m     11\u001b[0m             \u001b[0mgoal\u001b[0m \u001b[0;34m=\u001b[0m \u001b[0mgoal_configuration\u001b[0m \u001b[0;34m-\u001b[0m \u001b[0mcurrent_goal_config\u001b[0m\u001b[0;34m\u001b[0m\u001b[0m\n\u001b[0;32m---> 12\u001b[0;31m         \u001b[0mcurrent_steps\u001b[0m \u001b[0;34m=\u001b[0m \u001b[0mfind_overlap\u001b[0m\u001b[0;34m(\u001b[0m\u001b[0mcurrent_start_config\u001b[0m\u001b[0;34m,\u001b[0m \u001b[0mgoal\u001b[0m\u001b[0;34m)\u001b[0m\u001b[0;34m\u001b[0m\u001b[0m\n\u001b[0m\u001b[1;32m     13\u001b[0m         \u001b[0mplanner_steps\u001b[0m\u001b[0;34m.\u001b[0m\u001b[0mappend\u001b[0m\u001b[0;34m(\u001b[0m\u001b[0mcurrent_steps\u001b[0m\u001b[0;34m)\u001b[0m\u001b[0;34m\u001b[0m\u001b[0m\n\u001b[1;32m     14\u001b[0m         \u001b[0;32mbreak\u001b[0m\u001b[0;34m\u001b[0m\u001b[0m\n",
      "\u001b[0;32m<ipython-input-23-7fec6f9aebfd>\u001b[0m in \u001b[0;36mfind_overlap\u001b[0;34m(current_configuration, goal_configuration)\u001b[0m\n\u001b[1;32m     57\u001b[0m                 \u001b[0;32mfor\u001b[0m \u001b[0medge\u001b[0m \u001b[0;32min\u001b[0m \u001b[0mcurrent_goal\u001b[0m\u001b[0;34m.\u001b[0m\u001b[0mout_edges\u001b[0m\u001b[0;34m(\u001b[0m\u001b[0;34m)\u001b[0m\u001b[0;34m:\u001b[0m\u001b[0;34m\u001b[0m\u001b[0m\n\u001b[1;32m     58\u001b[0m                     if (goal_configuration.edge_properties[\"connection_type\"][edge] == \n\u001b[0;32m---> 59\u001b[0;31m                     current_configuration.edge_properties[\"connection_type\"][current_configuration.edge(current_node, current_parent[current_node])]):\n\u001b[0m\u001b[1;32m     60\u001b[0m                         \u001b[0mstack_current\u001b[0m\u001b[0;34m.\u001b[0m\u001b[0mappend\u001b[0m\u001b[0;34m(\u001b[0m\u001b[0mcurrent_parent\u001b[0m\u001b[0;34m[\u001b[0m\u001b[0mcurrent_node\u001b[0m\u001b[0;34m]\u001b[0m\u001b[0;34m)\u001b[0m\u001b[0;34m\u001b[0m\u001b[0m\n\u001b[1;32m     61\u001b[0m                         \u001b[0mstack_goal\u001b[0m\u001b[0;34m.\u001b[0m\u001b[0mappend\u001b[0m\u001b[0;34m(\u001b[0m\u001b[0medge\u001b[0m\u001b[0;34m.\u001b[0m\u001b[0mtarget\u001b[0m\u001b[0;34m(\u001b[0m\u001b[0;34m)\u001b[0m\u001b[0;34m)\u001b[0m\u001b[0;34m\u001b[0m\u001b[0m\n",
      "\u001b[0;32m/usr/local/Cellar/graph-tool/2.27_2/lib/python3.7/site-packages/graph_tool/__init__.py\u001b[0m in \u001b[0;36m__getitem__\u001b[0;34m(self, k)\u001b[0m\n\u001b[1;32m    455\u001b[0m                     \u001b[0mkt\u001b[0m \u001b[0;34m=\u001b[0m \u001b[0;34m\"Graph\"\u001b[0m\u001b[0;34m\u001b[0m\u001b[0m\n\u001b[1;32m    456\u001b[0m                 raise ValueError(\"invalid key '%s' of type '%s', wanted type: %s\"\n\u001b[0;32m--> 457\u001b[0;31m                                  % (str(k), str(type(k)), kt) )\n\u001b[0m\u001b[1;32m    458\u001b[0m \u001b[0;34m\u001b[0m\u001b[0m\n\u001b[1;32m    459\u001b[0m     \u001b[0;32mdef\u001b[0m \u001b[0m__setitem__\u001b[0m\u001b[0;34m(\u001b[0m\u001b[0mself\u001b[0m\u001b[0;34m,\u001b[0m \u001b[0mk\u001b[0m\u001b[0;34m,\u001b[0m \u001b[0mv\u001b[0m\u001b[0;34m)\u001b[0m\u001b[0;34m:\u001b[0m\u001b[0;34m\u001b[0m\u001b[0m\n",
      "\u001b[0;31mValueError\u001b[0m: invalid key 'None' of type '<class 'NoneType'>', wanted type: Edge"
     ]
    }
   ],
   "source": [
    "latching_plan = shapeshift(init_config, goal_config)\n",
    "print(latching_plan)"
   ]
  },
  {
   "cell_type": "code",
   "execution_count": null,
   "metadata": {},
   "outputs": [],
   "source": []
  }
 ],
 "metadata": {
  "kernelspec": {
   "display_name": "Python 3",
   "language": "python",
   "name": "python3"
  },
  "language_info": {
   "codemirror_mode": {
    "name": "ipython",
    "version": 3
   },
   "file_extension": ".py",
   "mimetype": "text/x-python",
   "name": "python",
   "nbconvert_exporter": "python",
   "pygments_lexer": "ipython3",
   "version": "3.6.2"
  }
 },
 "nbformat": 4,
 "nbformat_minor": 2
}
