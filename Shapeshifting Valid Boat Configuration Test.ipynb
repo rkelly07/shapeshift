{
 "cells": [
  {
   "cell_type": "markdown",
   "metadata": {},
   "source": [
    "# Boat Valid Configuration Test\n",
    "\n",
    "Here we will construct a few different boat configurations and run our checker algorithm to see if they different configurations are valid or not"
   ]
  },
  {
   "cell_type": "code",
   "execution_count": 1,
   "metadata": {},
   "outputs": [],
   "source": [
    "from Boat import *\n",
    "from shapeshift import *\n",
    "%reload_ext autoreload\n",
    "%autoreload 2"
   ]
  },
  {
   "cell_type": "markdown",
   "metadata": {},
   "source": [
    "Test 1: Base Case - One Coordinator Boat\n",
    "![title](img/test1.jpg)"
   ]
  },
  {
   "cell_type": "code",
   "execution_count": 19,
   "metadata": {},
   "outputs": [
    {
     "name": "stdout",
     "output_type": "stream",
     "text": [
      "True\n"
     ]
    }
   ],
   "source": [
    "boat1 = Boat(\"boat1\", True)\n",
    "boat_list1 = [boat1]\n",
    "result = is_valid_configuration(boat_list1)\n",
    "print(result)"
   ]
  },
  {
   "cell_type": "markdown",
   "metadata": {},
   "source": [
    "Test 2: One Coordinator - One Worker\n",
    "![title](img/test2.jpg)"
   ]
  },
  {
   "cell_type": "code",
   "execution_count": 20,
   "metadata": {},
   "outputs": [
    {
     "name": "stdout",
     "output_type": "stream",
     "text": [
      "True\n"
     ]
    }
   ],
   "source": [
    "boat1 = Boat(\"boat1\", True)\n",
    "boat2 = Boat(\"boat2\", False)\n",
    "latch_boats(boat1, \"starboard_male_top\", boat2, \"stern_female\")\n",
    "boat_list2 = [boat1, boat2]\n",
    "result = is_valid_configuration(boat_list2)\n",
    "print(result)"
   ]
  },
  {
   "cell_type": "markdown",
   "metadata": {},
   "source": [
    "Test 3: One Coordinator - Multiple Workers, overlapping\n",
    "![title](img/test3.jpg)"
   ]
  },
  {
   "cell_type": "code",
   "execution_count": 21,
   "metadata": {},
   "outputs": [
    {
     "name": "stdout",
     "output_type": "stream",
     "text": [
      "('Invalid boat configuration, boat:', 'boat4', 'already occupies cell', (1, -1))\n",
      "False\n"
     ]
    }
   ],
   "source": [
    "boat1 = Boat(\"boat1\", False)\n",
    "boat2 = Boat(\"boat2\", True)\n",
    "boat3 = Boat(\"boat3\", False)\n",
    "boat4 = Boat(\"boat4\", False)\n",
    "latch_boats(boat1, \"stern_female\", boat2, \"bow_male\")\n",
    "latch_boats(boat2, \"starboard_male_bottom\", boat3, \"port_female_top\")\n",
    "latch_boats(boat2, \"starboard_male_top\", boat4, \"stern_female\")\n",
    "boat_list2 = [boat1, boat2, boat3, boat4]\n",
    "result = is_valid_configuration(boat_list2)\n",
    "print(result)"
   ]
  },
  {
   "cell_type": "markdown",
   "metadata": {},
   "source": [
    "Test 4: Two L Shapes - 2 Coordinator 4 Worker\n",
    "![title](img/test4.jpg)"
   ]
  },
  {
   "cell_type": "code",
   "execution_count": 22,
   "metadata": {},
   "outputs": [
    {
     "name": "stdout",
     "output_type": "stream",
     "text": [
      "True\n"
     ]
    }
   ],
   "source": [
    "boat1 = Boat(\"boat1\", False)\n",
    "boat2 = Boat(\"boat2\", True)\n",
    "boat3 = Boat(\"boat3\", False)\n",
    "boat4 = Boat(\"boat4\", True)\n",
    "boat5 = Boat(\"boat5\", False)\n",
    "boat6 = Boat(\"boat6\", False)\n",
    "latch_boats(boat1, \"stern_female\", boat2, \"bow_male\")\n",
    "latch_boats(boat2, \"starboard_male_bottom\", boat3, \"stern_female\")\n",
    "latch_boats(boat4, \"stern_female\", boat5, \"bow_male\")\n",
    "latch_boats(boat5, \"starboard_male_bottom\", boat6, \"stern_female\")\n",
    "boat_list = [boat1, boat2, boat3, boat4, boat5, boat6]\n",
    "result = is_valid_configuration(boat_list)\n",
    "print(result)"
   ]
  },
  {
   "cell_type": "code",
   "execution_count": null,
   "metadata": {},
   "outputs": [],
   "source": []
  }
 ],
 "metadata": {
  "kernelspec": {
   "display_name": "Python 3",
   "language": "python",
   "name": "python3"
  },
  "language_info": {
   "codemirror_mode": {
    "name": "ipython",
    "version": 3
   },
   "file_extension": ".py",
   "mimetype": "text/x-python",
   "name": "python",
   "nbconvert_exporter": "python",
   "pygments_lexer": "ipython3",
   "version": "3.6.2"
  }
 },
 "nbformat": 4,
 "nbformat_minor": 2
}
