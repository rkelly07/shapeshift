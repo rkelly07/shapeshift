{
 "cells": [
  {
   "cell_type": "markdown",
   "metadata": {},
   "source": [
    "# Naive Shapeshifting Algorithm\n",
    "\n",
    "In this Notebook we will implement a naive solution for solving the shapeshifting problem. We do this by using one coordinator as the root of the new implementation and the other coordinator boat to move workers to different locations on the new configuration\n",
    "\n",
    "## Methodology\n",
    "\n",
    "To solve this problem we will take advantage of the geometries of the boats and how they are connected to find\n",
    "the maximum overlap between our current configuration and our goal configuration at each step.\n"
   ]
  },
  {
   "cell_type": "code",
   "execution_count": 2,
   "metadata": {},
   "outputs": [
    {
     "name": "stderr",
     "output_type": "stream",
     "text": [
      "/usr/local/Cellar/graph-tool/2.27_2/lib/python3.7/site-packages/graph_tool/draw/cairo_draw.py:1494: RuntimeWarning: Error importing Gtk module: No module named 'gi'; GTK+ drawing will not work.\n",
      "  warnings.warn(msg, RuntimeWarning)\n"
     ]
    }
   ],
   "source": [
    "import graph_tool.all as gt"
   ]
  },
  {
   "cell_type": "code",
   "execution_count": 25,
   "metadata": {},
   "outputs": [],
   "source": [
    "# This function will return a list of latch and unlatch steps in order to transform the initial configuration\n",
    "# to the goal configuration\n",
    "def shapeshift(initial_configuration, goal_configuration):\n",
    "    current_goal_config = None\n",
    "    current_start_config = initial_configuration\n",
    "    planner_steps = []\n",
    "    while current_goal_config != goal_configuration:\n",
    "        if current_goal_config == None:\n",
    "            goal = goal_configuration\n",
    "        else:\n",
    "            goal = goal_configuration - current_goal_config\n",
    "        current_steps = find_overlap(current_start_config, goal)\n",
    "        planner_steps.append(current_steps)\n",
    "        break\n",
    "    return planner_steps\n",
    "        \n",
    "def find_overlap(current_configuration, goal_configuration):\n",
    "    current_children = current_configuration.new_vertex_property(\"vector<int>\")\n",
    "    goal_children = goal_configuration.new_vertex_property(\"vector<int>\")\n",
    "    \n",
    "    current_parent = current_configuration.new_vertex_property(\"int\")\n",
    "    goal_parent = goal_configuration.new_vertex_property(\"int\")\n",
    "    \n",
    "    gt.bfs_search(current_configuration, current_configuration.vertex(0), \n",
    "               VisitorDistance(\"current\", current_parent, current_children))\n",
    "    gt.bfs_search(goal_configuration, goal_configuration.vertex(0), \n",
    "               VisitorDistance(\"goal\", goal_parent, goal_children))\n",
    "    \n",
    "#     current_index_dist = [(i,current_dist.a[i]) for i in range(len(current_dist.a))]\n",
    "#     goal_index_dist = [(i,goal_dist.a[i]) for i in range(len(goal_dist.a))]\n",
    "    \n",
    "#     current_index_dist.sort(key = lambda x : x[1])\n",
    "#     goal_index_dist.sort(key = lambda x : x[1])\n",
    "    \n",
    "    matching = []\n",
    "    for potential_leaf in current_configuration.vertices():\n",
    "        if len(current_children[potential_leaf]) > 0 or potential_leaf == 0:\n",
    "            continue\n",
    "        for potential_root in goal_configuration.vertices():\n",
    "            if goal_parent[potential_root] != 0 or potential_root == 0:\n",
    "                continue\n",
    "            stack_current = [potential_leaf]\n",
    "            stack_goal = [potential_root]\n",
    "            current_overlap = []\n",
    "            while len(stack_current) != 0:\n",
    "                current_node = stack_current.pop()\n",
    "                current_goal = stack_goal.pop()\n",
    "                current_overlap.append((current_node, current_goal))\n",
    "                \n",
    "#                 if (current_configuration.edge_properties[\"connection_type\"][current_node.incoming_edge()]\n",
    "#                 not in [edge_propercurrent_goal.edge_list())]:\n",
    "#                     break\n",
    "                for edge in current_goal.out_edges():\n",
    "                    if current_configuration.edge(current_node, current_parent[current_node]) == None:\n",
    "                        continue\n",
    "                    if (goal_configuration.edge_properties[\"connection_type\"][edge] == \n",
    "                    current_configuration.edge_properties[\"connection_type\"][current_configuration.edge(current_node, current_parent[current_node])]):\n",
    "                        stack_current.append(current_parent[current_node])\n",
    "                        stack_goal.append(edge.target())\n",
    "            if len(current_overlap) > len(matching):\n",
    "                        matching = current_overlap\n",
    "    return matching\n",
    "\n",
    "class VisitorDistance(gt.BFSVisitor):\n",
    "\n",
    "    def __init__(self, name, parent, children):\n",
    "        self.name = name\n",
    "        self.parent = parent\n",
    "        self.children = children\n",
    "\n",
    "    def tree_edge(self, e):\n",
    "        self.parent[e.target()] = e.source()\n",
    "        self.children[e.source()].append(e.target())\n",
    "    "
   ]
  },
  {
   "cell_type": "markdown",
   "metadata": {},
   "source": [
    "# Examples"
   ]
  },
  {
   "cell_type": "markdown",
   "metadata": {},
   "source": [
    "## Identity Example - Initial and Goal Configurations are the same"
   ]
  },
  {
   "cell_type": "code",
   "execution_count": 4,
   "metadata": {},
   "outputs": [],
   "source": [
    "# Make initial configuration\n",
    "init_config = gt.Graph(directed = False)\n",
    "coordinator = init_config.add_vertex()\n",
    "side_boat = init_config.add_vertex()\n",
    "latch = init_config.add_edge(coordinator, side_boat)\n",
    "edge_types = init_config.new_edge_property(\"int\")\n",
    "edge_types[latch] = 1"
   ]
  },
  {
   "cell_type": "code",
   "execution_count": null,
   "metadata": {},
   "outputs": [],
   "source": []
  },
  {
   "cell_type": "code",
   "execution_count": 5,
   "metadata": {},
   "outputs": [],
   "source": [
    "# Make goal configuration, it's the same\n",
    "goal_config = gt.Graph(directed = False)\n",
    "goal_coord = goal_config.add_vertex()\n",
    "goal_side = goal_config.add_vertex()\n",
    "goal_latch = goal_config.add_edge(goal_coord, goal_side)\n",
    "goal_edge_types = goal_config.new_edge_property(\"int\")\n",
    "goal_edge_types[goal_latch] = 1"
   ]
  },
  {
   "cell_type": "code",
   "execution_count": 5,
   "metadata": {},
   "outputs": [
    {
     "name": "stdout",
     "output_type": "stream",
     "text": [
      "0\n",
      "0\n",
      "[[]]\n"
     ]
    }
   ],
   "source": [
    "latching_plan = shapeshift(init_config, goal_config)\n",
    "print(latching_plan)"
   ]
  },
  {
   "cell_type": "markdown",
   "metadata": {},
   "source": [
    "## Example from Thesis proposal"
   ]
  },
  {
   "cell_type": "code",
   "execution_count": 26,
   "metadata": {},
   "outputs": [],
   "source": [
    "init_config = gt.Graph(directed = False)\n",
    "# initialize boats\n",
    "init_coord = init_config.add_vertex()\n",
    "init_work1 = init_config.add_vertex()\n",
    "init_work2 = init_config.add_vertex()\n",
    "init_work3 = init_config.add_vertex()\n",
    "init_work4 = init_config.add_vertex()\n",
    "init_work5 = init_config.add_vertex()\n",
    "\n",
    "# initialize edges\n",
    "i_coord_work1 = init_config.add_edge(init_coord, init_work1)\n",
    "i_coord_work2 = init_config.add_edge(init_coord, init_work2)\n",
    "i_work1_work3 = init_config.add_edge(init_work1, init_work3)\n",
    "i_work2_work3 = init_config.add_edge(init_work2, init_work3)\n",
    "i_work2_work4 = init_config.add_edge(init_work2, init_work4)\n",
    "i_work3_work5 = init_config.add_edge(init_work3, init_work5)\n",
    "i_work4_work5 = init_config.add_edge(init_work4, init_work5)\n",
    "\n",
    "# label edges\n",
    "init_edge_types = init_config.new_edge_property(\"int\")\n",
    "init_edge_types[i_coord_work1] = 1\n",
    "init_edge_types[i_coord_work2] = 2\n",
    "init_edge_types[i_work1_work3] = 2\n",
    "init_edge_types[i_work2_work3] = 1\n",
    "init_edge_types[i_work2_work4] = 2\n",
    "init_edge_types[i_work3_work5] = 2\n",
    "init_edge_types[i_work4_work5] = 1\n",
    "init_config.edge_properties['connection_type'] = init_edge_types"
   ]
  },
  {
   "cell_type": "code",
   "execution_count": 27,
   "metadata": {},
   "outputs": [],
   "source": [
    "goal_config = gt.Graph(directed = False)\n",
    "#initialize boats\n",
    "goal_coord = goal_config.add_vertex()\n",
    "goal_work1 = goal_config.add_vertex()\n",
    "goal_work2 = goal_config.add_vertex()\n",
    "goal_work3 = goal_config.add_vertex()\n",
    "goal_work4 = goal_config.add_vertex()\n",
    "goal_work5 = goal_config.add_vertex()\n",
    "\n",
    "#initialize edges\n",
    "g_work1_work2 = goal_config.add_edge(goal_work1, goal_work2)\n",
    "g_work1_work4 = goal_config.add_edge(goal_work1, goal_work4)\n",
    "g_work2_work3 = goal_config.add_edge(goal_work2, goal_work3)\n",
    "g_work2_work5 = goal_config.add_edge(goal_work2, goal_work5)\n",
    "g_work3_coord = goal_config.add_edge(goal_work3, goal_coord)\n",
    "g_work4_work5 = goal_config.add_edge(goal_work4, goal_work5)\n",
    "g_work5_coord = goal_config.add_edge(goal_work5, goal_coord)\n",
    "\n",
    "#label edges\n",
    "goal_edge_types = goal_config.new_edge_property(\"int\")\n",
    "goal_edge_types[g_work1_work2] = 1\n",
    "goal_edge_types[g_work1_work4] = 2\n",
    "goal_edge_types[g_work2_work3] = 1\n",
    "goal_edge_types[g_work2_work5] = 2\n",
    "goal_edge_types[g_work3_coord] = 2\n",
    "goal_edge_types[g_work4_work5] = 1\n",
    "goal_edge_types[g_work5_coord] = 1\n",
    "goal_config.edge_properties['connection_type'] = goal_edge_types"
   ]
  },
  {
   "cell_type": "code",
   "execution_count": 28,
   "metadata": {},
   "outputs": [
    {
     "name": "stdout",
     "output_type": "stream",
     "text": [
      "leafs\n",
      "4\n",
      "roots\n",
      "3\n",
      "roots\n",
      "5\n",
      "leafs\n",
      "5\n",
      "roots\n",
      "3\n",
      "roots\n",
      "5\n",
      "[[(<Vertex object with index '5' at 0x130230810>, <Vertex object with index '5' at 0x1302305d0>), (3, <Vertex object with index '2' at 0x130230030>), (1, <Vertex object with index '5' at 0x130230690>), (0, <Vertex object with index '4' at 0x130230930>), (0, <Vertex object with index '0' at 0x1302306f0>)]]\n"
     ]
    }
   ],
   "source": [
    "latching_plan = shapeshift(init_config, goal_config)\n",
    "print(latching_plan)"
   ]
  },
  {
   "cell_type": "code",
   "execution_count": null,
   "metadata": {},
   "outputs": [],
   "source": []
  }
 ],
 "metadata": {
  "kernelspec": {
   "display_name": "Python 3",
   "language": "python",
   "name": "python3"
  },
  "language_info": {
   "codemirror_mode": {
    "name": "ipython",
    "version": 3
   },
   "file_extension": ".py",
   "mimetype": "text/x-python",
   "name": "python",
   "nbconvert_exporter": "python",
   "pygments_lexer": "ipython3",
   "version": "3.6.2"
  }
 },
 "nbformat": 4,
 "nbformat_minor": 2
}
